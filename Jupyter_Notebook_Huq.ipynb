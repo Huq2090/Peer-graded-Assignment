{
 "cells": [
  {
   "cell_type": "markdown",
   "metadata": {},
   "source": [
    "# Peer-graded Assignment"
   ]
  },
  {
   "cell_type": "markdown",
   "metadata": {},
   "source": [
    "# Introduction"
   ]
  },
  {
   "cell_type": "markdown",
   "metadata": {},
   "source": [
    "List of data science languages: \n",
    "1. Python\n",
    "2. R\n",
    "3. Scala\n",
    "4. Java\n",
    "5. SQL"
   ]
  },
  {
   "cell_type": "markdown",
   "metadata": {},
   "source": [
    "List of data science libraries are: \n",
    "1. NumPy\n",
    "2. Pandas\n",
    "3. Matplotlib\n",
    "4. Seaborn\n",
    "5. TensorFlow\n",
    "6. PyTorch\n",
    "7. Keras\n",
    "\n"
   ]
  },
  {
   "cell_type": "markdown",
   "metadata": {},
   "source": [
    "Table for data science tools: \n",
    "| Tool          | Description                                                                                         |\n",
    "|---------------|-----------------------------------------------------------------------------------------------------|\n",
    "| NumPy         | Fundamental package for scientific computing with support for arrays and matrices.                  |\n",
    "| Pandas        | Library for data manipulation and analysis, providing data structures like DataFrame.               |\n",
    "| Matplotlib    | Comprehensive library for creating static, interactive, and animated visualizations in Python.      |\n",
    "| Seaborn       | High-level interface for creating attractive statistical graphics, built on top of Matplotlib.      |\n",
    "| Scikit-learn  | Simple and efficient tools for data mining and data analysis, including machine learning algorithms.|\n",
    "| TensorFlow    | Open-source machine learning framework developed by Google for building and training neural networks.|\n",
    "| PyTorch       | Open-source machine learning framework developed by Facebook's AI Research lab.                     |\n",
    "| Keras         | High-level neural networks API, capable of running on top of various backend frameworks.             |\n",
    "| Statsmodels   | Library for estimating and interpreting statistical models, including regression analysis.           |\n",
    "| SciPy         | Library for scientific and technical computing, offering modules for optimization and integration.   |\n"
   ]
  },
  {
   "cell_type": "markdown",
   "metadata": {},
   "source": [
    "Arithmetic expressions are fundamental in mathematics and programming. They involve operations like addition, subtraction, multiplication, and division. Here are some basic examples:\n",
    "\n",
    "**Addition**: Adding two numbers together. \\\n",
    "3 + 5 = 8 \\\n",
    "**Subtraction**: Subtracting two numbers. \\\n",
    "10 - 7 = 3 \\\n",
    "**Multiplication**: Multiplying two numbers. \\\n",
    "3 * 5 = 15 \\\n",
    "**Division**: Dividing one number by another number. \\\n",
    "20 / 5 = 4"
   ]
  },
  {
   "cell_type": "code",
   "execution_count": 6,
   "metadata": {
    "tags": []
   },
   "outputs": [
    {
     "name": "stdout",
     "output_type": "stream",
     "text": [
      "Addition of 4 and 3 is:  7\n",
      "Multiplication of 4 and 3 is:  12\n"
     ]
    }
   ],
   "source": [
    "a = 4\n",
    "b = 3\n",
    "addition = a + b\n",
    "multiplication = a*b\n",
    "print(\"Addition of 4 and 3 is: \", addition)\n",
    "print(\"Multiplication of 4 and 3 is: \", multiplication)"
   ]
  },
  {
   "cell_type": "code",
   "execution_count": 9,
   "metadata": {
    "tags": []
   },
   "outputs": [
    {
     "name": "stdout",
     "output_type": "stream",
     "text": [
      "120 makes 2.0 hours\n"
     ]
    }
   ],
   "source": [
    "minutes = 120\n",
    "hours = minutes/60\n",
    "print(str(minutes) + \" makes \" + str(hours) + \" hours\")"
   ]
  },
  {
   "cell_type": "markdown",
   "metadata": {},
   "source": [
    "The objectives of the course are: \n",
    "- Learning different tools for data science\n",
    "- Learning different tools for machine learning\n",
    "- Learning scopes of different tools"
   ]
  },
  {
   "cell_type": "markdown",
   "metadata": {},
   "source": [
    "Author's name: Huq"
   ]
  },
  {
   "cell_type": "code",
   "execution_count": null,
   "metadata": {},
   "outputs": [],
   "source": []
  }
 ],
 "metadata": {
  "kernelspec": {
   "display_name": "Python",
   "language": "python",
   "name": "conda-env-python-py"
  },
  "language_info": {
   "codemirror_mode": {
    "name": "ipython",
    "version": 3
   },
   "file_extension": ".py",
   "mimetype": "text/x-python",
   "name": "python",
   "nbconvert_exporter": "python",
   "pygments_lexer": "ipython3",
   "version": "3.7.12"
  }
 },
 "nbformat": 4,
 "nbformat_minor": 4
}
